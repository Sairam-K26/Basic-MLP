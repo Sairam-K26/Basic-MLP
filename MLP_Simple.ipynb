{
  "nbformat": 4,
  "nbformat_minor": 0,
  "metadata": {
    "colab": {
      "provenance": []
    },
    "kernelspec": {
      "name": "python3",
      "display_name": "Python 3"
    },
    "language_info": {
      "name": "python"
    }
  },
  "cells": [
    {
      "cell_type": "markdown",
      "source": [
        "Importing Files"
      ],
      "metadata": {
        "id": "xDsK4pKVZ7LF"
      }
    },
    {
      "cell_type": "code",
      "execution_count": 84,
      "metadata": {
        "id": "-pge1Wn_Zvgc"
      },
      "outputs": [],
      "source": [
        "import tensorflow as tf\n",
        "import numpy as np\n"
      ]
    },
    {
      "cell_type": "markdown",
      "source": [
        "Providing the datas for the process"
      ],
      "metadata": {
        "id": "p9IZaoIjbiDD"
      }
    },
    {
      "cell_type": "code",
      "source": [
        "# Generate random input data\n",
        "np.random.seed(0)\n",
        "n_samples = 1000\n",
        "n_features = 10\n",
        "X = np.random.rand(n_samples, n_features)\n",
        "\n",
        "# Generate random labels\n",
        "y = np.random.randint(0, 2, size=(n_samples, 1))\n",
        "\n"
      ],
      "metadata": {
        "id": "g0tDQ6R0Z6Fz"
      },
      "execution_count": 85,
      "outputs": []
    },
    {
      "cell_type": "markdown",
      "source": [
        "Defining Architecture"
      ],
      "metadata": {
        "id": "T3spuicKoN28"
      }
    },
    {
      "cell_type": "code",
      "source": [
        "# Define the architecture\n",
        "model = tf.keras.Sequential([\n",
        "    tf.keras.layers.Dense(64, activation='relu', input_shape=(n_features,)),\n",
        "    tf.keras.layers.Dense(1, activation='sigmoid')\n",
        "])\n"
      ],
      "metadata": {
        "id": "W2LAQBEFbTps"
      },
      "execution_count": 89,
      "outputs": []
    },
    {
      "cell_type": "markdown",
      "source": [
        "Compiling Model"
      ],
      "metadata": {
        "id": "dw8W_3m6nwIv"
      }
    },
    {
      "cell_type": "code",
      "source": [
        "# Compile the model\n",
        "model.compile(optimizer='adam', loss='binary_crossentropy', metrics=['accuracy'])\n"
      ],
      "metadata": {
        "id": "TsA9-_fvbjsJ"
      },
      "execution_count": 90,
      "outputs": []
    },
    {
      "cell_type": "markdown",
      "source": [
        "Training Model"
      ],
      "metadata": {
        "id": "AAvwmCXznzv0"
      }
    },
    {
      "cell_type": "code",
      "source": [
        "# Train the model\n",
        "model.fit(X, y, epochs=108, batch_size=32)\n"
      ],
      "metadata": {
        "colab": {
          "base_uri": "https://localhost:8080/"
        },
        "id": "S-jZG2Imb3Bs",
        "outputId": "de9a9b50-1b96-4773-83b7-fd4ad05edc23"
      },
      "execution_count": 105,
      "outputs": [
        {
          "output_type": "stream",
          "name": "stdout",
          "text": [
            "Epoch 1/108\n",
            "32/32 [==============================] - 0s 2ms/step - loss: 0.5032 - accuracy: 0.7620\n",
            "Epoch 2/108\n",
            "32/32 [==============================] - 0s 2ms/step - loss: 0.5026 - accuracy: 0.7680\n",
            "Epoch 3/108\n",
            "32/32 [==============================] - 0s 2ms/step - loss: 0.5014 - accuracy: 0.7660\n",
            "Epoch 4/108\n",
            "32/32 [==============================] - 0s 3ms/step - loss: 0.5017 - accuracy: 0.7710\n",
            "Epoch 5/108\n",
            "32/32 [==============================] - 0s 2ms/step - loss: 0.5013 - accuracy: 0.7640\n",
            "Epoch 6/108\n",
            "32/32 [==============================] - 0s 2ms/step - loss: 0.5008 - accuracy: 0.7680\n",
            "Epoch 7/108\n",
            "32/32 [==============================] - 0s 2ms/step - loss: 0.4999 - accuracy: 0.7750\n",
            "Epoch 8/108\n",
            "32/32 [==============================] - 0s 2ms/step - loss: 0.5054 - accuracy: 0.7730\n",
            "Epoch 9/108\n",
            "32/32 [==============================] - 0s 3ms/step - loss: 0.5030 - accuracy: 0.7760\n",
            "Epoch 10/108\n",
            "32/32 [==============================] - 0s 2ms/step - loss: 0.5037 - accuracy: 0.7650\n",
            "Epoch 11/108\n",
            "32/32 [==============================] - 0s 3ms/step - loss: 0.4999 - accuracy: 0.7680\n",
            "Epoch 12/108\n",
            "32/32 [==============================] - 0s 3ms/step - loss: 0.5007 - accuracy: 0.7630\n",
            "Epoch 13/108\n",
            "32/32 [==============================] - 0s 2ms/step - loss: 0.4987 - accuracy: 0.7740\n",
            "Epoch 14/108\n",
            "32/32 [==============================] - 0s 2ms/step - loss: 0.5037 - accuracy: 0.7710\n",
            "Epoch 15/108\n",
            "32/32 [==============================] - 0s 3ms/step - loss: 0.4994 - accuracy: 0.7650\n",
            "Epoch 16/108\n",
            "32/32 [==============================] - 0s 2ms/step - loss: 0.4995 - accuracy: 0.7630\n",
            "Epoch 17/108\n",
            "32/32 [==============================] - 0s 2ms/step - loss: 0.4991 - accuracy: 0.7680\n",
            "Epoch 18/108\n",
            "32/32 [==============================] - 0s 3ms/step - loss: 0.4984 - accuracy: 0.7750\n",
            "Epoch 19/108\n",
            "32/32 [==============================] - 0s 3ms/step - loss: 0.5014 - accuracy: 0.7740\n",
            "Epoch 20/108\n",
            "32/32 [==============================] - 0s 3ms/step - loss: 0.5041 - accuracy: 0.7790\n",
            "Epoch 21/108\n",
            "32/32 [==============================] - 0s 2ms/step - loss: 0.4967 - accuracy: 0.7710\n",
            "Epoch 22/108\n",
            "32/32 [==============================] - 0s 3ms/step - loss: 0.4976 - accuracy: 0.7730\n",
            "Epoch 23/108\n",
            "32/32 [==============================] - 0s 2ms/step - loss: 0.5010 - accuracy: 0.7710\n",
            "Epoch 24/108\n",
            "32/32 [==============================] - 0s 2ms/step - loss: 0.4974 - accuracy: 0.7770\n",
            "Epoch 25/108\n",
            "32/32 [==============================] - 0s 2ms/step - loss: 0.5003 - accuracy: 0.7720\n",
            "Epoch 26/108\n",
            "32/32 [==============================] - 0s 2ms/step - loss: 0.4965 - accuracy: 0.7870\n",
            "Epoch 27/108\n",
            "32/32 [==============================] - 0s 2ms/step - loss: 0.5012 - accuracy: 0.7690\n",
            "Epoch 28/108\n",
            "32/32 [==============================] - 0s 3ms/step - loss: 0.4965 - accuracy: 0.7810\n",
            "Epoch 29/108\n",
            "32/32 [==============================] - 0s 3ms/step - loss: 0.4979 - accuracy: 0.7790\n",
            "Epoch 30/108\n",
            "32/32 [==============================] - 0s 2ms/step - loss: 0.4954 - accuracy: 0.7670\n",
            "Epoch 31/108\n",
            "32/32 [==============================] - 0s 3ms/step - loss: 0.4981 - accuracy: 0.7610\n",
            "Epoch 32/108\n",
            "32/32 [==============================] - 0s 3ms/step - loss: 0.4996 - accuracy: 0.7680\n",
            "Epoch 33/108\n",
            "32/32 [==============================] - 0s 2ms/step - loss: 0.4978 - accuracy: 0.7810\n",
            "Epoch 34/108\n",
            "32/32 [==============================] - 0s 3ms/step - loss: 0.4963 - accuracy: 0.7630\n",
            "Epoch 35/108\n",
            "32/32 [==============================] - 0s 2ms/step - loss: 0.4946 - accuracy: 0.7730\n",
            "Epoch 36/108\n",
            "32/32 [==============================] - 0s 3ms/step - loss: 0.4954 - accuracy: 0.7720\n",
            "Epoch 37/108\n",
            "32/32 [==============================] - 0s 2ms/step - loss: 0.4940 - accuracy: 0.7710\n",
            "Epoch 38/108\n",
            "32/32 [==============================] - 0s 2ms/step - loss: 0.4945 - accuracy: 0.7750\n",
            "Epoch 39/108\n",
            "32/32 [==============================] - 0s 2ms/step - loss: 0.4966 - accuracy: 0.7650\n",
            "Epoch 40/108\n",
            "32/32 [==============================] - 0s 2ms/step - loss: 0.4989 - accuracy: 0.7720\n",
            "Epoch 41/108\n",
            "32/32 [==============================] - 0s 2ms/step - loss: 0.4933 - accuracy: 0.7770\n",
            "Epoch 42/108\n",
            "32/32 [==============================] - 0s 3ms/step - loss: 0.4940 - accuracy: 0.7680\n",
            "Epoch 43/108\n",
            "32/32 [==============================] - 0s 2ms/step - loss: 0.4948 - accuracy: 0.7780\n",
            "Epoch 44/108\n",
            "32/32 [==============================] - 0s 3ms/step - loss: 0.4946 - accuracy: 0.7810\n",
            "Epoch 45/108\n",
            "32/32 [==============================] - 0s 3ms/step - loss: 0.4955 - accuracy: 0.7860\n",
            "Epoch 46/108\n",
            "32/32 [==============================] - 0s 2ms/step - loss: 0.4951 - accuracy: 0.7690\n",
            "Epoch 47/108\n",
            "32/32 [==============================] - 0s 3ms/step - loss: 0.4995 - accuracy: 0.7580\n",
            "Epoch 48/108\n",
            "32/32 [==============================] - 0s 3ms/step - loss: 0.4915 - accuracy: 0.7780\n",
            "Epoch 49/108\n",
            "32/32 [==============================] - 0s 2ms/step - loss: 0.4945 - accuracy: 0.7720\n",
            "Epoch 50/108\n",
            "32/32 [==============================] - 0s 2ms/step - loss: 0.4937 - accuracy: 0.7690\n",
            "Epoch 51/108\n",
            "32/32 [==============================] - 0s 3ms/step - loss: 0.4914 - accuracy: 0.7800\n",
            "Epoch 52/108\n",
            "32/32 [==============================] - 0s 3ms/step - loss: 0.4908 - accuracy: 0.7750\n",
            "Epoch 53/108\n",
            "32/32 [==============================] - 0s 2ms/step - loss: 0.4913 - accuracy: 0.7770\n",
            "Epoch 54/108\n",
            "32/32 [==============================] - 0s 3ms/step - loss: 0.4910 - accuracy: 0.7790\n",
            "Epoch 55/108\n",
            "32/32 [==============================] - 0s 2ms/step - loss: 0.4901 - accuracy: 0.7720\n",
            "Epoch 56/108\n",
            "32/32 [==============================] - 0s 2ms/step - loss: 0.4900 - accuracy: 0.7770\n",
            "Epoch 57/108\n",
            "32/32 [==============================] - 0s 2ms/step - loss: 0.4887 - accuracy: 0.7860\n",
            "Epoch 58/108\n",
            "32/32 [==============================] - 0s 2ms/step - loss: 0.4901 - accuracy: 0.7780\n",
            "Epoch 59/108\n",
            "32/32 [==============================] - 0s 3ms/step - loss: 0.4896 - accuracy: 0.7850\n",
            "Epoch 60/108\n",
            "32/32 [==============================] - 0s 3ms/step - loss: 0.4875 - accuracy: 0.7880\n",
            "Epoch 61/108\n",
            "32/32 [==============================] - 0s 3ms/step - loss: 0.4932 - accuracy: 0.7740\n",
            "Epoch 62/108\n",
            "32/32 [==============================] - 0s 3ms/step - loss: 0.4874 - accuracy: 0.7800\n",
            "Epoch 63/108\n",
            "32/32 [==============================] - 0s 3ms/step - loss: 0.4893 - accuracy: 0.7770\n",
            "Epoch 64/108\n",
            "32/32 [==============================] - 0s 3ms/step - loss: 0.4886 - accuracy: 0.7820\n",
            "Epoch 65/108\n",
            "32/32 [==============================] - 0s 3ms/step - loss: 0.4891 - accuracy: 0.7740\n",
            "Epoch 66/108\n",
            "32/32 [==============================] - 0s 3ms/step - loss: 0.4874 - accuracy: 0.7860\n",
            "Epoch 67/108\n",
            "32/32 [==============================] - 0s 3ms/step - loss: 0.4940 - accuracy: 0.7760\n",
            "Epoch 68/108\n",
            "32/32 [==============================] - 0s 3ms/step - loss: 0.4877 - accuracy: 0.7910\n",
            "Epoch 69/108\n",
            "32/32 [==============================] - 0s 2ms/step - loss: 0.4907 - accuracy: 0.7720\n",
            "Epoch 70/108\n",
            "32/32 [==============================] - 0s 3ms/step - loss: 0.4874 - accuracy: 0.7760\n",
            "Epoch 71/108\n",
            "32/32 [==============================] - 0s 3ms/step - loss: 0.4880 - accuracy: 0.7780\n",
            "Epoch 72/108\n",
            "32/32 [==============================] - 0s 3ms/step - loss: 0.4871 - accuracy: 0.7860\n",
            "Epoch 73/108\n",
            "32/32 [==============================] - 0s 3ms/step - loss: 0.4906 - accuracy: 0.7820\n",
            "Epoch 74/108\n",
            "32/32 [==============================] - 0s 2ms/step - loss: 0.4865 - accuracy: 0.7730\n",
            "Epoch 75/108\n",
            "32/32 [==============================] - 0s 3ms/step - loss: 0.4869 - accuracy: 0.7790\n",
            "Epoch 76/108\n",
            "32/32 [==============================] - 0s 3ms/step - loss: 0.4844 - accuracy: 0.7820\n",
            "Epoch 77/108\n",
            "32/32 [==============================] - 0s 3ms/step - loss: 0.4858 - accuracy: 0.7760\n",
            "Epoch 78/108\n",
            "32/32 [==============================] - 0s 3ms/step - loss: 0.4863 - accuracy: 0.7760\n",
            "Epoch 79/108\n",
            "32/32 [==============================] - 0s 3ms/step - loss: 0.4855 - accuracy: 0.7840\n",
            "Epoch 80/108\n",
            "32/32 [==============================] - 0s 3ms/step - loss: 0.4883 - accuracy: 0.7800\n",
            "Epoch 81/108\n",
            "32/32 [==============================] - 0s 3ms/step - loss: 0.4840 - accuracy: 0.7840\n",
            "Epoch 82/108\n",
            "32/32 [==============================] - 0s 3ms/step - loss: 0.4862 - accuracy: 0.7810\n",
            "Epoch 83/108\n",
            "32/32 [==============================] - 0s 3ms/step - loss: 0.4862 - accuracy: 0.7890\n",
            "Epoch 84/108\n",
            "32/32 [==============================] - 0s 3ms/step - loss: 0.4842 - accuracy: 0.7870\n",
            "Epoch 85/108\n",
            "32/32 [==============================] - 0s 3ms/step - loss: 0.4918 - accuracy: 0.7770\n",
            "Epoch 86/108\n",
            "32/32 [==============================] - 0s 2ms/step - loss: 0.4929 - accuracy: 0.7780\n",
            "Epoch 87/108\n",
            "32/32 [==============================] - 0s 2ms/step - loss: 0.4832 - accuracy: 0.7880\n",
            "Epoch 88/108\n",
            "32/32 [==============================] - 0s 3ms/step - loss: 0.4828 - accuracy: 0.7820\n",
            "Epoch 89/108\n",
            "32/32 [==============================] - 0s 3ms/step - loss: 0.4830 - accuracy: 0.7870\n",
            "Epoch 90/108\n",
            "32/32 [==============================] - 0s 3ms/step - loss: 0.4885 - accuracy: 0.7840\n",
            "Epoch 91/108\n",
            "32/32 [==============================] - 0s 2ms/step - loss: 0.4859 - accuracy: 0.7860\n",
            "Epoch 92/108\n",
            "32/32 [==============================] - 0s 3ms/step - loss: 0.4848 - accuracy: 0.7850\n",
            "Epoch 93/108\n",
            "32/32 [==============================] - 0s 3ms/step - loss: 0.4852 - accuracy: 0.7700\n",
            "Epoch 94/108\n",
            "32/32 [==============================] - 0s 3ms/step - loss: 0.4835 - accuracy: 0.7880\n",
            "Epoch 95/108\n",
            "32/32 [==============================] - 0s 3ms/step - loss: 0.4864 - accuracy: 0.7710\n",
            "Epoch 96/108\n",
            "32/32 [==============================] - 0s 2ms/step - loss: 0.4874 - accuracy: 0.7780\n",
            "Epoch 97/108\n",
            "32/32 [==============================] - 0s 3ms/step - loss: 0.4864 - accuracy: 0.7880\n",
            "Epoch 98/108\n",
            "32/32 [==============================] - 0s 3ms/step - loss: 0.4858 - accuracy: 0.7810\n",
            "Epoch 99/108\n",
            "32/32 [==============================] - 0s 3ms/step - loss: 0.4854 - accuracy: 0.7810\n",
            "Epoch 100/108\n",
            "32/32 [==============================] - 0s 3ms/step - loss: 0.4808 - accuracy: 0.7850\n",
            "Epoch 101/108\n",
            "32/32 [==============================] - 0s 2ms/step - loss: 0.4882 - accuracy: 0.7800\n",
            "Epoch 102/108\n",
            "32/32 [==============================] - 0s 3ms/step - loss: 0.4837 - accuracy: 0.7840\n",
            "Epoch 103/108\n",
            "32/32 [==============================] - 0s 4ms/step - loss: 0.4813 - accuracy: 0.7850\n",
            "Epoch 104/108\n",
            "32/32 [==============================] - 0s 4ms/step - loss: 0.4808 - accuracy: 0.7910\n",
            "Epoch 105/108\n",
            "32/32 [==============================] - 0s 4ms/step - loss: 0.4806 - accuracy: 0.7890\n",
            "Epoch 106/108\n",
            "32/32 [==============================] - 0s 4ms/step - loss: 0.4801 - accuracy: 0.7830\n",
            "Epoch 107/108\n",
            "32/32 [==============================] - 0s 4ms/step - loss: 0.4816 - accuracy: 0.7890\n",
            "Epoch 108/108\n",
            "32/32 [==============================] - 0s 4ms/step - loss: 0.4797 - accuracy: 0.7780\n"
          ]
        },
        {
          "output_type": "execute_result",
          "data": {
            "text/plain": [
              "<keras.callbacks.History at 0x7dd88a253460>"
            ]
          },
          "metadata": {},
          "execution_count": 105
        }
      ]
    }
  ]
}
